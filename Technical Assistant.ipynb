{
 "cells": [
  {
   "cell_type": "markdown",
   "id": "625a138f-37c3-432b-a61c-8b0f2d3d759b",
   "metadata": {},
   "source": [
    "# Building a tool that takes a technical question, and responds with an explanation. This is a tool that you will be able to use yourself if needed.\n",
    "# Demonstrating my Familiarity with OpenAI API, and also Ollama\n",
    "# I would've done claude too, but ran out of API limit"
   ]
  },
  {
   "cell_type": "markdown",
   "id": "0bf16090-d51c-4c7d-9aad-7a8651edf58e",
   "metadata": {},
   "source": [
    "# imports"
   ]
  },
  {
   "cell_type": "code",
   "execution_count": 35,
   "id": "c1070317-3ed9-4659-abe3-828943230e03",
   "metadata": {},
   "outputs": [],
   "source": [
    "import os\n",
    "import requests\n",
    "import json\n",
    "from bs4 import BeautifulSoup\n",
    "from dotenv import load_dotenv\n",
    "import ollama\n",
    "from IPython.display import display, HTML, Markdown\n",
    "from datetime import datetime\n",
    "from openai import OpenAI"
   ]
  },
  {
   "cell_type": "markdown",
   "id": "b556e962-5128-4600-8892-3cb2cd86c189",
   "metadata": {},
   "source": [
    "# Declaring constants"
   ]
  },
  {
   "cell_type": "code",
   "execution_count": 9,
   "id": "4a456906-915a-4bfd-bb9d-57e505c5093f",
   "metadata": {},
   "outputs": [],
   "source": [
    "MODEL_GPT = 'gpt-4o-mini'\n",
    "MODEL_LLAMA = 'llama3.2'"
   ]
  },
  {
   "cell_type": "code",
   "execution_count": null,
   "id": "3f0d0137-52b0-47a8-81a8-11a90a010798",
   "metadata": {},
   "outputs": [],
   "source": [
    "# here is the question; type over this to ask something new\n",
    "\n",
    "question = \"\"\"\n",
    "Please explain what this code does and why:\n",
    "yield from {book.get(\"author\") for book in books if book.get(\"author\")}\n",
    "\"\"\""
   ]
  },
  {
   "cell_type": "markdown",
   "id": "cca839ab-c66f-4066-9bdf-25d1fae23afb",
   "metadata": {},
   "source": [
    "# I'm setting up OpenAI (paid) and Ollama (Free, also runs locally on your machine no need for an API key)"
   ]
  },
  {
   "cell_type": "markdown",
   "id": "0a400861-18f4-4ce0-a2e0-3dad624b3dd1",
   "metadata": {},
   "source": [
    "# setting up OpenAI environment"
   ]
  },
  {
   "cell_type": "code",
   "execution_count": 10,
   "id": "a8d7923c-5f28-4c30-8556-342d7c8497c1",
   "metadata": {},
   "outputs": [
    {
     "name": "stdout",
     "output_type": "stream",
     "text": [
      "API key retrieved\n"
     ]
    }
   ],
   "source": [
    "load_dotenv(override=True)\n",
    "api_key = os.getenv('OPENAI_API_KEY')\n",
    "if api_key and api_key.startswith('sk-proj-') and len(api_key)>10:\n",
    "    print(\"API key retrieved\")\n",
    "else:\n",
    "    print(\"There is a problem with your API key!! Check your key.\")\n",
    "    \n",
    "MODEL = MODEL_GPT\n",
    "openai = OpenAI()"
   ]
  },
  {
   "cell_type": "markdown",
   "id": "9447d752-1fe7-41f8-af1b-803a6a8a1cfc",
   "metadata": {},
   "source": [
    "# Get gpt-4o-mini to answer, with streaming\n",
    "# Stream gives you, Typewriter kind of effect while providing the output"
   ]
  },
  {
   "cell_type": "code",
   "execution_count": 19,
   "id": "2c3033c9-7dbc-4e30-b940-c0b9e1fe4efe",
   "metadata": {},
   "outputs": [
    {
     "name": "stdout",
     "output_type": "stream",
     "text": [
      "GPT: The provided code is a Python expression that uses a combination of a generator function and a set comprehension. Let's break it down:\n",
      "\n",
      "### Explanation\n",
      "\n",
      "1. **Set Comprehension**:\n",
      "   ```python\n",
      "   {book.get(\"author\") for book in books if book.get(\"author\")}\n",
      "   ```\n",
      "   - This is a set comprehension that iterates over a collection called `books`.\n",
      "   - For each `book` in `books`, it calls `book.get(\"author\")` to retrieve the value of the \"author\" key.\n",
      "   - The `if book.get(\"author\")` clause ensures that only books that have a defined \"author\" (not `None` or an empty string) are considered.\n",
      "   - The result is a set containing unique authors since sets inherently do not allow duplicate values.\n",
      "\n",
      "2. **Yielding from Set**:\n",
      "   ```python\n",
      "   yield from ...\n",
      "   ```\n",
      "   - The `yield from` expression is used within a generator function. It delegates the iteration to the set created by the comprehension.\n",
      "   - This means that instead of returning the entire set at once, it will yield each author one at a time, allowing the calling code to iterate over the authors as they are generated.\n",
      "\n",
      "### Purpose\n",
      "The overall purpose of this line of code is to create a generator that yields unique authors from a list (or similar iterable) of book dictionaries, where each dictionary contains details about a book (like title, author, etc.). By using a generator, memory consumption can be efficient, especially if the list of books is large, because it does not generate the entire set of authors at once but instead gives them one by one as requested.\n",
      "\n",
      "### Example\n",
      "Assuming `books` is a list of dictionaries representing different books, and some may not have an \"author\" entry:\n",
      "\n",
      "```python\n",
      "books = [\n",
      "    {\"title\": \"Book 1\", \"author\": \"Author A\"},\n",
      "    {\"title\": \"Book 2\", \"author\": \"Author B\"},\n",
      "    {\"title\": \"Book 3\", \"author\": None},\n",
      "    {\"title\": \"Book 4\", \"author\": \"Author A\"},  # Author A is repeated\n",
      "    {\"title\": \"Book 5\", \"author\": \"Author C\"},\n",
      "]\n",
      "\n",
      "# Implementing the generator in a function\n",
      "def get_unique_authors(books):\n",
      "    yield from {book.get(\"author\") for book in books if book.get(\"author\")}\n",
      "\n",
      "# Example of usage\n",
      "for author in get_unique_authors(books):\n",
      "    print(author)\n",
      "```\n",
      "\n",
      "### Summary\n",
      "In summary, the code creates a generator that yields unique authors from a collection of books, ignoring any books that do not have an author associated with them. It efficiently handles large datasets by yielding results one at a time.\n"
     ]
    }
   ],
   "source": [
    "response = openai.chat.completions.create(\n",
    "    model=MODEL_GPT,\n",
    "    messages=[\n",
    "        {\"role\": \"user\", \"content\": question}\n",
    "    ],\n",
    "    stream=True\n",
    ")\n",
    "\n",
    "# print(response['message']['content'])  # This won't work with Streaming, so we use chunk!\n",
    "\n",
    "# DO this instead:\n",
    "print(\"GPT: \", end=\"\")\n",
    "for chunk in response:\n",
    "    if chunk.choices[0].delta.content is not None:\n",
    "        print(chunk.choices[0].delta.content, end=\"\", flush=True)\n",
    "print()  # New line when done\n",
    "    "
   ]
  },
  {
   "cell_type": "markdown",
   "id": "73b034f6-9869-4bc0-bdfa-e0e470f98647",
   "metadata": {},
   "source": [
    "# Get gpt-4o-mini to answer, without streaming"
   ]
  },
  {
   "cell_type": "code",
   "execution_count": 42,
   "id": "c4ea90eb-de55-489c-9842-a72936e0fcaf",
   "metadata": {},
   "outputs": [
    {
     "name": "stdout",
     "output_type": "stream",
     "text": [
      "============================================================\n",
      "QUESTION: \n",
      "Please explain what this code does and why:\n",
      "yield from {book.get(\"author\") for book in books if book.get(\"author\")}\n",
      "\n",
      "============================================================\n",
      "\n",
      "GPT RESPONSE (14:06:36):\n",
      "----------------------------------------\n",
      "The given code snippet you provided utilizes a generator and a set comprehension in Python. Here's a breakdown of what it does and why:\n",
      "\n",
      "Breakdown of the Code\n",
      "\n",
      "1. Set Comprehension:\n",
      "- `{book.get(\"author\") for book in books if book.get(\"author\")}` is a set comprehension. It creates a set containing the values retrieved from the \"author\" key in each dictionary `book` from the iterable `books`.\n",
      "- `book.get(\"author\")` tries to access the value associated with the key \"author\" in each `book`.\n",
      "- The `if book.get(\"author\")` condition ensures that only those books where an author exists (i.e., the value is not `None`, empty string, or any other falsy value) are included in the set.\n",
      "\n",
      "2. Yield from:\n",
      "- The `yield from` expression is used to yield all values from an iterable. In this case, it yields each author obtained from the set comprehension one at a time.\n",
      "- Using `yield from` allows this code to be used within a generator function, meaning that it can produce a sequence of authors on demand.\n",
      "\n",
      "Purpose\n",
      "\n",
      "The purpose of this code is to extract a unique set of authors from the collection of books and yield them one at a time. Here are the specific reasons for how and why this is done:\n",
      "\n",
      "- Uniqueness: Using a set comprehension ensures that each author is only included once, even if multiple books have the same author.\n",
      "- Efficiency: By using `yield from`, this function can handle potentially large datasets more efficiently, as it produces values one at a time rather than generating all results at once in a list or array.\n",
      "- Handling Missing Data: By checking `if book.get(\"author\")`, it skips books that either do not have an author or have an author that is a falsy value.\n",
      "\n",
      "Example\n",
      "\n",
      "If `books` is a list of dictionaries like this:\n",
      "\n",
      "books = [\n",
      "{\"title\": \"Book A\", \"author\": \"Author 1\"},\n",
      "{\"title\": \"Book B\", \"author\": \"Author 2\"},\n",
      "{\"title\": \"Book C\", \"author\": None},\n",
      "{\"title\": \"Book D\", \"author\": \"Author 1\"},\n",
      "]\n",
      "\n",
      "The code will yield:\n",
      "\n",
      "- \"Author 1\"\n",
      "- \"Author 2\"\n",
      "\n",
      "Notice \"Author 1\" only appears once in the set since sets do not allow duplicate values.\n",
      "============================================================\n"
     ]
    },
    {
     "data": {
      "text/plain": [
       "'The given code snippet you provided utilizes a generator and a set comprehension in Python. Here\\'s a breakdown of what it does and why:\\n\\nBreakdown of the Code\\n\\n1. Set Comprehension:\\n- `{book.get(\"author\") for book in books if book.get(\"author\")}` is a set comprehension. It creates a set containing the values retrieved from the \"author\" key in each dictionary `book` from the iterable `books`.\\n- `book.get(\"author\")` tries to access the value associated with the key \"author\" in each `book`.\\n- The `if book.get(\"author\")` condition ensures that only those books where an author exists (i.e., the value is not `None`, empty string, or any other falsy value) are included in the set.\\n\\n2. Yield from:\\n- The `yield from` expression is used to yield all values from an iterable. In this case, it yields each author obtained from the set comprehension one at a time.\\n- Using `yield from` allows this code to be used within a generator function, meaning that it can produce a sequence of authors on demand.\\n\\nPurpose\\n\\nThe purpose of this code is to extract a unique set of authors from the collection of books and yield them one at a time. Here are the specific reasons for how and why this is done:\\n\\n- Uniqueness: Using a set comprehension ensures that each author is only included once, even if multiple books have the same author.\\n- Efficiency: By using `yield from`, this function can handle potentially large datasets more efficiently, as it produces values one at a time rather than generating all results at once in a list or array.\\n- Handling Missing Data: By checking `if book.get(\"author\")`, it skips books that either do not have an author or have an author that is a falsy value.\\n\\nExample\\n\\nIf `books` is a list of dictionaries like this:\\n\\nbooks = [\\n{\"title\": \"Book A\", \"author\": \"Author 1\"},\\n{\"title\": \"Book B\", \"author\": \"Author 2\"},\\n{\"title\": \"Book C\", \"author\": None},\\n{\"title\": \"Book D\", \"author\": \"Author 1\"},\\n]\\n\\nThe code will yield:\\n\\n- \"Author 1\"\\n- \"Author 2\"\\n\\nNotice \"Author 1\" only appears once in the set since sets do not allow duplicate values.'"
      ]
     },
     "execution_count": 42,
     "metadata": {},
     "output_type": "execute_result"
    }
   ],
   "source": [
    "# Response Template is standard for OpenAI API call\n",
    "# Stream is False by Default\n",
    "def GPT_no_stream(question, model):\n",
    "    \"\"\"\n",
    "    Ask GPT a question with clean, simple text output\n",
    "    \"\"\"\n",
    "    print(\"=\" * 60)\n",
    "    print(f\"QUESTION: {question}\")\n",
    "    print(\"=\" * 60)\n",
    "    \n",
    "    # Get the response\n",
    "    response = openai.chat.completions.create(\n",
    "        model=model,\n",
    "        messages=[{\"role\": \"user\", \"content\": question}],\n",
    "        stream=False\n",
    "    )\n",
    "    \n",
    "    answer = response.choices[0].message.content\n",
    "    timestamp = datetime.now().strftime(\"%H:%M:%S\")\n",
    "    \n",
    "    # Clean up the response text\n",
    "    clean_answer = clean_text_output(answer)\n",
    "    \n",
    "    print(f\"\\nGPT RESPONSE ({timestamp}):\")\n",
    "    print(\"-\" * 40)\n",
    "    print(clean_answer)\n",
    "    print(\"=\" * 60)\n",
    "    \n",
    "    return clean_answer\n",
    "# Calling the function\n",
    "GPT_no_stream(question, MODEL_GPT)"
   ]
  },
  {
   "cell_type": "markdown",
   "id": "f49d773f-7768-4286-b69e-464518cc843d",
   "metadata": {},
   "source": [
    "# setting up Ollama environment"
   ]
  },
  {
   "cell_type": "code",
   "execution_count": 7,
   "id": "c59c0b45-1da0-4efa-81db-28df90ce4344",
   "metadata": {},
   "outputs": [
    {
     "name": "stdout",
     "output_type": "stream",
     "text": [
      "Using model: llama3.2\n"
     ]
    }
   ],
   "source": [
    "# Check if Ollama service is running\n",
    "try:\n",
    "    # Test connection to Ollama\n",
    "    models = ollama.list()\n",
    "    print(\"Ollama service is running\")\n",
    "    \n",
    "    # Check if llama3.2 model is available\n",
    "    available_models = [model['name'] for model in models['models']]\n",
    "    \n",
    "    if 'llama3.2:latest' in available_models:\n",
    "        print(\"Llama 3.2 model is available\")\n",
    "        MODEL = 'llama3.2'\n",
    "    else:\n",
    "        print(\"Llama 3.2 model not found! Run 'ollama pull llama3.2' in terminal\")\n",
    "        MODEL = None\n",
    "        \n",
    "except Exception as e:\n",
    "    print(f\"Problem connecting to Ollama: {e}\")\n",
    "    print(\"Make sure Ollama is installed and running\")\n",
    "    MODEL = None\n",
    "\n",
    "Set up the client (Ollama doesn't need API keys - it runs locally!)\n",
    "if MODEL_LLAMA:\n",
    "    client = ollama\n",
    "    print(f\"Using model: {MODEL_LLAMA}\")\n",
    "else:\n",
    "    print(\"Setup incomplete - fix the issues above first\")"
   ]
  },
  {
   "cell_type": "code",
   "execution_count": 12,
   "id": "8f7c8ea8-4082-4ad0-8751-3301adcf6538",
   "metadata": {},
   "outputs": [
    {
     "name": "stdout",
     "output_type": "stream",
     "text": [
      "This line of code is a generator expression that yields values from an iterable (in this case, the \"books\" list).\n",
      "\n",
      "Here's a breakdown:\n",
      "\n",
      "- `yield from`: This keyword is used to delegate the generation of values to another iterable. It essentially says \"yield all the values from this iterable\".\n",
      "\n",
      "- `{book.get(\"author\") for book in books if book.get(\"author\")}`: This is an iterable expression that iterates over each item (`book`) in the `books` list.\n",
      "\n",
      "  - The `for book in books` part iterates over each `book` in the list.\n",
      "  \n",
      "  - The `if book.get(\"author\")` part filters out any `book` for which the value associated with the key `\"author\"` is not available (i.e., `None`). This ensures that only books with an author are considered.\n",
      "\n",
      "- `yield from`: As mentioned earlier, this keyword delegates the generation of values to another iterable. So, when the previous expression yields values, these values will be passed on to the next iteration.\n",
      "\n",
      "This code snippet does essentially the same thing as the following for loop:\n",
      "\n",
      "```python\n",
      "for book in books:\n",
      "    if book.get(\"author\"):\n",
      "        yield book.get(\"author\")\n",
      "```\n",
      "\n",
      "However, it's more concise and can be seen as a more \"Pythonic\" way of doing things because it uses a generator expression which is faster and uses less memory.\n",
      "\n",
      "Here's an example use case for this code:\n",
      "\n",
      "```python\n",
      "books = [\n",
      "    {\"title\": \"Book 1\", \"author\": \"Author 1\"},\n",
      "    {\"title\": \"Book 2\", \"author\": None},\n",
      "    {\"title\": \"Book 3\", \"author\": \"Author 3\"}\n",
      "]\n",
      "\n",
      "for author in yield from {book.get(\"author\") for book in books if book.get(\"author\")}>\n",
      "    print(author)\n",
      "```\n",
      "\n",
      "This will output:\n",
      "\n",
      "```\n",
      "Author 1\n",
      "Author 3\n",
      "```\n"
     ]
    }
   ],
   "source": [
    "# Get Llama 3.2 to answer\n",
    "response = ollama.chat(\n",
    "    model= MODEL_LLAMA,\n",
    "    messages=[\n",
    "        {'role': 'user', 'content': question}\n",
    "    ]\n",
    ")\n",
    "\n",
    "print(response['message']['content'])"
   ]
  }
 ],
 "metadata": {
  "kernelspec": {
   "display_name": "Python 3 (ipykernel)",
   "language": "python",
   "name": "python3"
  },
  "language_info": {
   "codemirror_mode": {
    "name": "ipython",
    "version": 3
   },
   "file_extension": ".py",
   "mimetype": "text/x-python",
   "name": "python",
   "nbconvert_exporter": "python",
   "pygments_lexer": "ipython3",
   "version": "3.11.13"
  }
 },
 "nbformat": 4,
 "nbformat_minor": 5
}
